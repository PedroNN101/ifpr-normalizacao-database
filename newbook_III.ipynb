{
 "cells": [
  {
   "cell_type": "code",
   "execution_count": null,
   "id": "c27fdeb1",
   "metadata": {},
   "outputs": [
    {
     "name": "stdout",
     "output_type": "stream",
     "text": [
      "Requirement already satisfied: dataprep in /usr/local/python/3.10.8/lib/python3.10/site-packages (0.4.5)\n",
      "Requirement already satisfied: aiohttp<4.0,>=3.6 in /usr/local/python/3.10.8/lib/python3.10/site-packages (from dataprep) (3.8.5)\n",
      "Requirement already satisfied: bokeh<3,>=2 in /usr/local/python/3.10.8/lib/python3.10/site-packages (from dataprep) (2.4.3)\n",
      "Requirement already satisfied: dask[array,dataframe,delayed]>=2022.3.0 in /usr/local/python/3.10.8/lib/python3.10/site-packages (from dataprep) (2023.9.2)\n",
      "Requirement already satisfied: flask<3,>=2 in /usr/local/python/3.10.8/lib/python3.10/site-packages (from dataprep) (2.2.5)\n",
      "Requirement already satisfied: flask_cors<4.0.0,>=3.0.10 in /usr/local/python/3.10.8/lib/python3.10/site-packages (from dataprep) (3.0.10)\n",
      "Requirement already satisfied: ipywidgets<8.0,>=7.5 in /usr/local/python/3.10.8/lib/python3.10/site-packages (from dataprep) (7.8.1)\n",
      "Requirement already satisfied: jinja2<3.1,>=3.0 in /usr/local/python/3.10.8/lib/python3.10/site-packages (from dataprep) (3.0.3)\n",
      "Requirement already satisfied: jsonpath-ng<2.0,>=1.5 in /usr/local/python/3.10.8/lib/python3.10/site-packages (from dataprep) (1.6.0)\n",
      "Requirement already satisfied: metaphone<0.7,>=0.6 in /usr/local/python/3.10.8/lib/python3.10/site-packages (from dataprep) (0.6)\n",
      "Requirement already satisfied: nltk<4.0.0,>=3.6.7 in /usr/local/python/3.10.8/lib/python3.10/site-packages (from dataprep) (3.8.1)\n",
      "Requirement already satisfied: numpy<2.0,>=1.21 in /home/codespace/.local/lib/python3.10/site-packages (from dataprep) (1.25.2)\n",
      "Requirement already satisfied: pandas<2.0,>=1.1 in /usr/local/python/3.10.8/lib/python3.10/site-packages (from dataprep) (1.5.3)\n",
      "Requirement already satisfied: pydantic<2.0,>=1.6 in /usr/local/python/3.10.8/lib/python3.10/site-packages (from dataprep) (1.10.12)\n",
      "Requirement already satisfied: pydot<2.0.0,>=1.4.2 in /usr/local/python/3.10.8/lib/python3.10/site-packages (from dataprep) (1.4.2)\n",
      "Requirement already satisfied: python-crfsuite==0.9.8 in /usr/local/python/3.10.8/lib/python3.10/site-packages (from dataprep) (0.9.8)\n",
      "Requirement already satisfied: python-stdnum<2.0,>=1.16 in /usr/local/python/3.10.8/lib/python3.10/site-packages (from dataprep) (1.19)\n",
      "Requirement already satisfied: rapidfuzz<3.0.0,>=2.1.2 in /usr/local/python/3.10.8/lib/python3.10/site-packages (from dataprep) (2.15.1)\n",
      "Requirement already satisfied: regex<2022.0.0,>=2021.8.3 in /usr/local/python/3.10.8/lib/python3.10/site-packages (from dataprep) (2021.11.10)\n",
      "Requirement already satisfied: scipy<2.0,>=1.8 in /home/codespace/.local/lib/python3.10/site-packages (from dataprep) (1.11.2)\n",
      "Requirement already satisfied: sqlalchemy==1.3.24 in /usr/local/python/3.10.8/lib/python3.10/site-packages (from dataprep) (1.3.24)\n",
      "Requirement already satisfied: tqdm<5.0,>=4.48 in /usr/local/python/3.10.8/lib/python3.10/site-packages (from dataprep) (4.66.1)\n",
      "Requirement already satisfied: varname<0.9.0,>=0.8.1 in /usr/local/python/3.10.8/lib/python3.10/site-packages (from dataprep) (0.8.3)\n",
      "Requirement already satisfied: wordcloud<2.0,>=1.8 in /usr/local/python/3.10.8/lib/python3.10/site-packages (from dataprep) (1.9.2)\n",
      "Requirement already satisfied: attrs>=17.3.0 in /home/codespace/.local/lib/python3.10/site-packages (from aiohttp<4.0,>=3.6->dataprep) (23.1.0)\n",
      "Requirement already satisfied: charset-normalizer<4.0,>=2.0 in /home/codespace/.local/lib/python3.10/site-packages (from aiohttp<4.0,>=3.6->dataprep) (3.2.0)\n",
      "Requirement already satisfied: multidict<7.0,>=4.5 in /usr/local/python/3.10.8/lib/python3.10/site-packages (from aiohttp<4.0,>=3.6->dataprep) (6.0.4)\n",
      "Requirement already satisfied: async-timeout<5.0,>=4.0.0a3 in /usr/local/python/3.10.8/lib/python3.10/site-packages (from aiohttp<4.0,>=3.6->dataprep) (4.0.3)\n",
      "Requirement already satisfied: yarl<2.0,>=1.0 in /usr/local/python/3.10.8/lib/python3.10/site-packages (from aiohttp<4.0,>=3.6->dataprep) (1.9.2)\n",
      "Requirement already satisfied: frozenlist>=1.1.1 in /usr/local/python/3.10.8/lib/python3.10/site-packages (from aiohttp<4.0,>=3.6->dataprep) (1.4.0)\n",
      "Requirement already satisfied: aiosignal>=1.1.2 in /usr/local/python/3.10.8/lib/python3.10/site-packages (from aiohttp<4.0,>=3.6->dataprep) (1.3.1)\n",
      "Requirement already satisfied: packaging>=16.8 in /home/codespace/.local/lib/python3.10/site-packages (from bokeh<3,>=2->dataprep) (23.1)\n",
      "Requirement already satisfied: pillow>=7.1.0 in /home/codespace/.local/lib/python3.10/site-packages (from bokeh<3,>=2->dataprep) (10.0.0)\n",
      "Requirement already satisfied: PyYAML>=3.10 in /home/codespace/.local/lib/python3.10/site-packages (from bokeh<3,>=2->dataprep) (6.0.1)\n",
      "Requirement already satisfied: tornado>=5.1 in /home/codespace/.local/lib/python3.10/site-packages (from bokeh<3,>=2->dataprep) (6.3.3)\n",
      "Requirement already satisfied: typing-extensions>=3.10.0 in /home/codespace/.local/lib/python3.10/site-packages (from bokeh<3,>=2->dataprep) (4.7.1)\n",
      "Requirement already satisfied: click>=8.0 in /usr/local/python/3.10.8/lib/python3.10/site-packages (from dask[array,dataframe,delayed]>=2022.3.0->dataprep) (8.1.7)\n",
      "Requirement already satisfied: cloudpickle>=1.5.0 in /usr/local/python/3.10.8/lib/python3.10/site-packages (from dask[array,dataframe,delayed]>=2022.3.0->dataprep) (2.2.1)\n",
      "Requirement already satisfied: fsspec>=2021.09.0 in /usr/local/python/3.10.8/lib/python3.10/site-packages (from dask[array,dataframe,delayed]>=2022.3.0->dataprep) (2023.9.1)\n",
      "Requirement already satisfied: partd>=1.2.0 in /usr/local/python/3.10.8/lib/python3.10/site-packages (from dask[array,dataframe,delayed]>=2022.3.0->dataprep) (1.4.0)\n",
      "Requirement already satisfied: toolz>=0.10.0 in /usr/local/python/3.10.8/lib/python3.10/site-packages (from dask[array,dataframe,delayed]>=2022.3.0->dataprep) (0.12.0)\n",
      "Requirement already satisfied: importlib-metadata>=4.13.0 in /usr/local/python/3.10.8/lib/python3.10/site-packages (from dask[array,dataframe,delayed]>=2022.3.0->dataprep) (6.8.0)\n",
      "Requirement already satisfied: Werkzeug>=2.2.2 in /usr/local/python/3.10.8/lib/python3.10/site-packages (from flask<3,>=2->dataprep) (2.3.7)\n",
      "Requirement already satisfied: itsdangerous>=2.0 in /usr/local/python/3.10.8/lib/python3.10/site-packages (from flask<3,>=2->dataprep) (2.1.2)\n",
      "Requirement already satisfied: Six in /home/codespace/.local/lib/python3.10/site-packages (from flask_cors<4.0.0,>=3.0.10->dataprep) (1.16.0)\n",
      "Requirement already satisfied: comm>=0.1.3 in /home/codespace/.local/lib/python3.10/site-packages (from ipywidgets<8.0,>=7.5->dataprep) (0.1.4)\n",
      "Requirement already satisfied: ipython-genutils~=0.2.0 in /usr/local/python/3.10.8/lib/python3.10/site-packages (from ipywidgets<8.0,>=7.5->dataprep) (0.2.0)\n",
      "Requirement already satisfied: traitlets>=4.3.1 in /home/codespace/.local/lib/python3.10/site-packages (from ipywidgets<8.0,>=7.5->dataprep) (5.9.0)\n",
      "Requirement already satisfied: widgetsnbextension~=3.6.6 in /usr/local/python/3.10.8/lib/python3.10/site-packages (from ipywidgets<8.0,>=7.5->dataprep) (3.6.6)\n",
      "Requirement already satisfied: ipython>=4.0.0 in /home/codespace/.local/lib/python3.10/site-packages (from ipywidgets<8.0,>=7.5->dataprep) (8.14.0)\n",
      "Requirement already satisfied: jupyterlab-widgets<3,>=1.0.0 in /usr/local/python/3.10.8/lib/python3.10/site-packages (from ipywidgets<8.0,>=7.5->dataprep) (1.1.7)\n",
      "Requirement already satisfied: MarkupSafe>=2.0 in /home/codespace/.local/lib/python3.10/site-packages (from jinja2<3.1,>=3.0->dataprep) (2.1.3)\n",
      "Requirement already satisfied: ply in /usr/local/python/3.10.8/lib/python3.10/site-packages (from jsonpath-ng<2.0,>=1.5->dataprep) (3.11)\n"
     ]
    },
    {
     "name": "stdout",
     "output_type": "stream",
     "text": [
      "Requirement already satisfied: joblib in /home/codespace/.local/lib/python3.10/site-packages (from nltk<4.0.0,>=3.6.7->dataprep) (1.3.2)\n",
      "Requirement already satisfied: python-dateutil>=2.8.1 in /home/codespace/.local/lib/python3.10/site-packages (from pandas<2.0,>=1.1->dataprep) (2.8.2)\n",
      "Requirement already satisfied: pytz>=2020.1 in /home/codespace/.local/lib/python3.10/site-packages (from pandas<2.0,>=1.1->dataprep) (2023.3)\n",
      "Requirement already satisfied: pyparsing>=2.1.4 in /home/codespace/.local/lib/python3.10/site-packages (from pydot<2.0.0,>=1.4.2->dataprep) (3.0.9)\n",
      "Requirement already satisfied: asttokens<3.0.0,>=2.0.0 in /home/codespace/.local/lib/python3.10/site-packages (from varname<0.9.0,>=0.8.1->dataprep) (2.2.1)\n",
      "Requirement already satisfied: executing<0.9.0,>=0.8.3 in /usr/local/python/3.10.8/lib/python3.10/site-packages (from varname<0.9.0,>=0.8.1->dataprep) (0.8.3)\n",
      "Requirement already satisfied: pure_eval<1.0.0 in /home/codespace/.local/lib/python3.10/site-packages (from varname<0.9.0,>=0.8.1->dataprep) (0.2.2)\n",
      "Requirement already satisfied: matplotlib in /home/codespace/.local/lib/python3.10/site-packages (from wordcloud<2.0,>=1.8->dataprep) (3.7.2)\n",
      "Requirement already satisfied: zipp>=0.5 in /usr/local/python/3.10.8/lib/python3.10/site-packages (from importlib-metadata>=4.13.0->dask[array,dataframe,delayed]>=2022.3.0->dataprep) (3.16.2)\n",
      "Requirement already satisfied: backcall in /home/codespace/.local/lib/python3.10/site-packages (from ipython>=4.0.0->ipywidgets<8.0,>=7.5->dataprep) (0.2.0)\n",
      "Requirement already satisfied: decorator in /home/codespace/.local/lib/python3.10/site-packages (from ipython>=4.0.0->ipywidgets<8.0,>=7.5->dataprep) (5.1.1)\n",
      "Requirement already satisfied: jedi>=0.16 in /home/codespace/.local/lib/python3.10/site-packages (from ipython>=4.0.0->ipywidgets<8.0,>=7.5->dataprep) (0.19.0)\n",
      "Requirement already satisfied: matplotlib-inline in /home/codespace/.local/lib/python3.10/site-packages (from ipython>=4.0.0->ipywidgets<8.0,>=7.5->dataprep) (0.1.6)\n",
      "Requirement already satisfied: pickleshare in /home/codespace/.local/lib/python3.10/site-packages (from ipython>=4.0.0->ipywidgets<8.0,>=7.5->dataprep) (0.7.5)\n",
      "Requirement already satisfied: prompt-toolkit!=3.0.37,<3.1.0,>=3.0.30 in /home/codespace/.local/lib/python3.10/site-packages (from ipython>=4.0.0->ipywidgets<8.0,>=7.5->dataprep) (3.0.39)\n",
      "Requirement already satisfied: pygments>=2.4.0 in /home/codespace/.local/lib/python3.10/site-packages (from ipython>=4.0.0->ipywidgets<8.0,>=7.5->dataprep) (2.16.1)\n",
      "Requirement already satisfied: stack-data in /usr/local/python/3.10.8/lib/python3.10/site-packages (from ipython>=4.0.0->ipywidgets<8.0,>=7.5->dataprep) (0.5.1)\n",
      "Requirement already satisfied: pexpect>4.3 in /home/codespace/.local/lib/python3.10/site-packages (from ipython>=4.0.0->ipywidgets<8.0,>=7.5->dataprep) (4.8.0)\n",
      "Requirement already satisfied: locket in /usr/local/python/3.10.8/lib/python3.10/site-packages (from partd>=1.2.0->dask[array,dataframe,delayed]>=2022.3.0->dataprep) (1.0.0)\n",
      "Requirement already satisfied: notebook>=4.4.1 in /usr/local/python/3.10.8/lib/python3.10/site-packages (from widgetsnbextension~=3.6.6->ipywidgets<8.0,>=7.5->dataprep) (7.0.3)\n",
      "Requirement already satisfied: idna>=2.0 in /home/codespace/.local/lib/python3.10/site-packages (from yarl<2.0,>=1.0->aiohttp<4.0,>=3.6->dataprep) (3.4)\n",
      "Requirement already satisfied: contourpy>=1.0.1 in /home/codespace/.local/lib/python3.10/site-packages (from matplotlib->wordcloud<2.0,>=1.8->dataprep) (1.1.0)\n",
      "Requirement already satisfied: cycler>=0.10 in /home/codespace/.local/lib/python3.10/site-packages (from matplotlib->wordcloud<2.0,>=1.8->dataprep) (0.11.0)\n",
      "Requirement already satisfied: fonttools>=4.22.0 in /home/codespace/.local/lib/python3.10/site-packages (from matplotlib->wordcloud<2.0,>=1.8->dataprep) (4.42.0)\n",
      "Requirement already satisfied: kiwisolver>=1.0.1 in /home/codespace/.local/lib/python3.10/site-packages (from matplotlib->wordcloud<2.0,>=1.8->dataprep) (1.4.4)\n",
      "Requirement already satisfied: parso<0.9.0,>=0.8.3 in /home/codespace/.local/lib/python3.10/site-packages (from jedi>=0.16->ipython>=4.0.0->ipywidgets<8.0,>=7.5->dataprep) (0.8.3)\n",
      "Requirement already satisfied: jupyter-server<3,>=2.4.0 in /home/codespace/.local/lib/python3.10/site-packages (from notebook>=4.4.1->widgetsnbextension~=3.6.6->ipywidgets<8.0,>=7.5->dataprep) (2.7.2)\n",
      "Requirement already satisfied: jupyterlab-server<3,>=2.22.1 in /home/codespace/.local/lib/python3.10/site-packages (from notebook>=4.4.1->widgetsnbextension~=3.6.6->ipywidgets<8.0,>=7.5->dataprep) (2.24.0)\n",
      "Requirement already satisfied: jupyterlab<5,>=4.0.2 in /home/codespace/.local/lib/python3.10/site-packages (from notebook>=4.4.1->widgetsnbextension~=3.6.6->ipywidgets<8.0,>=7.5->dataprep) (4.0.5)\n",
      "Requirement already satisfied: notebook-shim<0.3,>=0.2 in /home/codespace/.local/lib/python3.10/site-packages (from notebook>=4.4.1->widgetsnbextension~=3.6.6->ipywidgets<8.0,>=7.5->dataprep) (0.2.3)\n",
      "Requirement already satisfied: ptyprocess>=0.5 in /home/codespace/.local/lib/python3.10/site-packages (from pexpect>4.3->ipython>=4.0.0->ipywidgets<8.0,>=7.5->dataprep) (0.7.0)\n",
      "Requirement already satisfied: wcwidth in /home/codespace/.local/lib/python3.10/site-packages (from prompt-toolkit!=3.0.37,<3.1.0,>=3.0.30->ipython>=4.0.0->ipywidgets<8.0,>=7.5->dataprep) (0.2.6)\n",
      "Requirement already satisfied: anyio>=3.1.0 in /home/codespace/.local/lib/python3.10/site-packages (from jupyter-server<3,>=2.4.0->notebook>=4.4.1->widgetsnbextension~=3.6.6->ipywidgets<8.0,>=7.5->dataprep) (3.7.1)\n",
      "Requirement already satisfied: argon2-cffi in /home/codespace/.local/lib/python3.10/site-packages (from jupyter-server<3,>=2.4.0->notebook>=4.4.1->widgetsnbextension~=3.6.6->ipywidgets<8.0,>=7.5->dataprep) (23.1.0)\n",
      "Requirement already satisfied: jupyter-client>=7.4.4 in /home/codespace/.local/lib/python3.10/site-packages (from jupyter-server<3,>=2.4.0->notebook>=4.4.1->widgetsnbextension~=3.6.6->ipywidgets<8.0,>=7.5->dataprep) (8.3.0)\n",
      "Requirement already satisfied: jupyter-core!=5.0.*,>=4.12 in /home/codespace/.local/lib/python3.10/site-packages (from jupyter-server<3,>=2.4.0->notebook>=4.4.1->widgetsnbextension~=3.6.6->ipywidgets<8.0,>=7.5->dataprep) (5.3.1)\n",
      "Requirement already satisfied: jupyter-events>=0.6.0 in /home/codespace/.local/lib/python3.10/site-packages (from jupyter-server<3,>=2.4.0->notebook>=4.4.1->widgetsnbextension~=3.6.6->ipywidgets<8.0,>=7.5->dataprep) (0.7.0)\n",
      "Requirement already satisfied: jupyter-server-terminals in /home/codespace/.local/lib/python3.10/site-packages (from jupyter-server<3,>=2.4.0->notebook>=4.4.1->widgetsnbextension~=3.6.6->ipywidgets<8.0,>=7.5->dataprep) (0.4.4)\n",
      "Requirement already satisfied: nbconvert>=6.4.4 in /home/codespace/.local/lib/python3.10/site-packages (from jupyter-server<3,>=2.4.0->notebook>=4.4.1->widgetsnbextension~=3.6.6->ipywidgets<8.0,>=7.5->dataprep) (7.7.4)\n",
      "Requirement already satisfied: nbformat>=5.3.0 in /home/codespace/.local/lib/python3.10/site-packages (from jupyter-server<3,>=2.4.0->notebook>=4.4.1->widgetsnbextension~=3.6.6->ipywidgets<8.0,>=7.5->dataprep) (5.9.2)\n",
      "Requirement already satisfied: overrides in /home/codespace/.local/lib/python3.10/site-packages (from jupyter-server<3,>=2.4.0->notebook>=4.4.1->widgetsnbextension~=3.6.6->ipywidgets<8.0,>=7.5->dataprep) (7.4.0)\n",
      "Requirement already satisfied: prometheus-client in /home/codespace/.local/lib/python3.10/site-packages (from jupyter-server<3,>=2.4.0->notebook>=4.4.1->widgetsnbextension~=3.6.6->ipywidgets<8.0,>=7.5->dataprep) (0.17.1)\n",
      "Requirement already satisfied: pyzmq>=24 in /home/codespace/.local/lib/python3.10/site-packages (from jupyter-server<3,>=2.4.0->notebook>=4.4.1->widgetsnbextension~=3.6.6->ipywidgets<8.0,>=7.5->dataprep) (25.1.1)\n",
      "Requirement already satisfied: send2trash>=1.8.2 in /home/codespace/.local/lib/python3.10/site-packages (from jupyter-server<3,>=2.4.0->notebook>=4.4.1->widgetsnbextension~=3.6.6->ipywidgets<8.0,>=7.5->dataprep) (1.8.2)\n",
      "Requirement already satisfied: terminado>=0.8.3 in /home/codespace/.local/lib/python3.10/site-packages (from jupyter-server<3,>=2.4.0->notebook>=4.4.1->widgetsnbextension~=3.6.6->ipywidgets<8.0,>=7.5->dataprep) (0.17.1)\n",
      "Requirement already satisfied: websocket-client in /home/codespace/.local/lib/python3.10/site-packages (from jupyter-server<3,>=2.4.0->notebook>=4.4.1->widgetsnbextension~=3.6.6->ipywidgets<8.0,>=7.5->dataprep) (1.6.1)\n",
      "Requirement already satisfied: async-lru>=1.0.0 in /home/codespace/.local/lib/python3.10/site-packages (from jupyterlab<5,>=4.0.2->notebook>=4.4.1->widgetsnbextension~=3.6.6->ipywidgets<8.0,>=7.5->dataprep) (2.0.4)\n",
      "Requirement already satisfied: ipykernel in /home/codespace/.local/lib/python3.10/site-packages (from jupyterlab<5,>=4.0.2->notebook>=4.4.1->widgetsnbextension~=3.6.6->ipywidgets<8.0,>=7.5->dataprep) (6.25.1)\n",
      "Requirement already satisfied: jupyter-lsp>=2.0.0 in /home/codespace/.local/lib/python3.10/site-packages (from jupyterlab<5,>=4.0.2->notebook>=4.4.1->widgetsnbextension~=3.6.6->ipywidgets<8.0,>=7.5->dataprep) (2.2.0)\n",
      "Requirement already satisfied: tomli in /home/codespace/.local/lib/python3.10/site-packages (from jupyterlab<5,>=4.0.2->notebook>=4.4.1->widgetsnbextension~=3.6.6->ipywidgets<8.0,>=7.5->dataprep) (2.0.1)\n",
      "Requirement already satisfied: babel>=2.10 in /home/codespace/.local/lib/python3.10/site-packages (from jupyterlab-server<3,>=2.22.1->notebook>=4.4.1->widgetsnbextension~=3.6.6->ipywidgets<8.0,>=7.5->dataprep) (2.12.1)\n",
      "Requirement already satisfied: json5>=0.9.0 in /home/codespace/.local/lib/python3.10/site-packages (from jupyterlab-server<3,>=2.22.1->notebook>=4.4.1->widgetsnbextension~=3.6.6->ipywidgets<8.0,>=7.5->dataprep) (0.9.14)\n",
      "Requirement already satisfied: jsonschema>=4.17.3 in /home/codespace/.local/lib/python3.10/site-packages (from jupyterlab-server<3,>=2.22.1->notebook>=4.4.1->widgetsnbextension~=3.6.6->ipywidgets<8.0,>=7.5->dataprep) (4.19.0)\n",
      "Requirement already satisfied: requests>=2.28 in /home/codespace/.local/lib/python3.10/site-packages (from jupyterlab-server<3,>=2.22.1->notebook>=4.4.1->widgetsnbextension~=3.6.6->ipywidgets<8.0,>=7.5->dataprep) (2.31.0)\n",
      "Requirement already satisfied: sniffio>=1.1 in /home/codespace/.local/lib/python3.10/site-packages (from anyio>=3.1.0->jupyter-server<3,>=2.4.0->notebook>=4.4.1->widgetsnbextension~=3.6.6->ipywidgets<8.0,>=7.5->dataprep) (1.3.0)\n",
      "Requirement already satisfied: exceptiongroup in /home/codespace/.local/lib/python3.10/site-packages (from anyio>=3.1.0->jupyter-server<3,>=2.4.0->notebook>=4.4.1->widgetsnbextension~=3.6.6->ipywidgets<8.0,>=7.5->dataprep) (1.1.3)\n",
      "Requirement already satisfied: jsonschema-specifications>=2023.03.6 in /home/codespace/.local/lib/python3.10/site-packages (from jsonschema>=4.17.3->jupyterlab-server<3,>=2.22.1->notebook>=4.4.1->widgetsnbextension~=3.6.6->ipywidgets<8.0,>=7.5->dataprep) (2023.7.1)\n",
      "Requirement already satisfied: referencing>=0.28.4 in /home/codespace/.local/lib/python3.10/site-packages (from jsonschema>=4.17.3->jupyterlab-server<3,>=2.22.1->notebook>=4.4.1->widgetsnbextension~=3.6.6->ipywidgets<8.0,>=7.5->dataprep) (0.30.2)\n",
      "Requirement already satisfied: rpds-py>=0.7.1 in /home/codespace/.local/lib/python3.10/site-packages (from jsonschema>=4.17.3->jupyterlab-server<3,>=2.22.1->notebook>=4.4.1->widgetsnbextension~=3.6.6->ipywidgets<8.0,>=7.5->dataprep) (0.9.2)\n",
      "Requirement already satisfied: platformdirs>=2.5 in /home/codespace/.local/lib/python3.10/site-packages (from jupyter-core!=5.0.*,>=4.12->jupyter-server<3,>=2.4.0->notebook>=4.4.1->widgetsnbextension~=3.6.6->ipywidgets<8.0,>=7.5->dataprep) (3.10.0)\n",
      "Requirement already satisfied: python-json-logger>=2.0.4 in /home/codespace/.local/lib/python3.10/site-packages (from jupyter-events>=0.6.0->jupyter-server<3,>=2.4.0->notebook>=4.4.1->widgetsnbextension~=3.6.6->ipywidgets<8.0,>=7.5->dataprep) (2.0.7)\n",
      "Requirement already satisfied: rfc3339-validator in /home/codespace/.local/lib/python3.10/site-packages (from jupyter-events>=0.6.0->jupyter-server<3,>=2.4.0->notebook>=4.4.1->widgetsnbextension~=3.6.6->ipywidgets<8.0,>=7.5->dataprep) (0.1.4)\n",
      "Requirement already satisfied: rfc3986-validator>=0.1.1 in /home/codespace/.local/lib/python3.10/site-packages (from jupyter-events>=0.6.0->jupyter-server<3,>=2.4.0->notebook>=4.4.1->widgetsnbextension~=3.6.6->ipywidgets<8.0,>=7.5->dataprep) (0.1.1)\n",
      "Requirement already satisfied: beautifulsoup4 in /home/codespace/.local/lib/python3.10/site-packages (from nbconvert>=6.4.4->jupyter-server<3,>=2.4.0->notebook>=4.4.1->widgetsnbextension~=3.6.6->ipywidgets<8.0,>=7.5->dataprep) (4.12.2)\n",
      "Requirement already satisfied: bleach!=5.0.0 in /home/codespace/.local/lib/python3.10/site-packages (from nbconvert>=6.4.4->jupyter-server<3,>=2.4.0->notebook>=4.4.1->widgetsnbextension~=3.6.6->ipywidgets<8.0,>=7.5->dataprep) (6.0.0)\n",
      "Requirement already satisfied: defusedxml in /home/codespace/.local/lib/python3.10/site-packages (from nbconvert>=6.4.4->jupyter-server<3,>=2.4.0->notebook>=4.4.1->widgetsnbextension~=3.6.6->ipywidgets<8.0,>=7.5->dataprep) (0.7.1)\n",
      "Requirement already satisfied: jupyterlab-pygments in /home/codespace/.local/lib/python3.10/site-packages (from nbconvert>=6.4.4->jupyter-server<3,>=2.4.0->notebook>=4.4.1->widgetsnbextension~=3.6.6->ipywidgets<8.0,>=7.5->dataprep) (0.2.2)\n",
      "Requirement already satisfied: mistune<4,>=2.0.3 in /home/codespace/.local/lib/python3.10/site-packages (from nbconvert>=6.4.4->jupyter-server<3,>=2.4.0->notebook>=4.4.1->widgetsnbextension~=3.6.6->ipywidgets<8.0,>=7.5->dataprep) (3.0.1)\n",
      "Requirement already satisfied: nbclient>=0.5.0 in /home/codespace/.local/lib/python3.10/site-packages (from nbconvert>=6.4.4->jupyter-server<3,>=2.4.0->notebook>=4.4.1->widgetsnbextension~=3.6.6->ipywidgets<8.0,>=7.5->dataprep) (0.8.0)\n",
      "Requirement already satisfied: pandocfilters>=1.4.1 in /home/codespace/.local/lib/python3.10/site-packages (from nbconvert>=6.4.4->jupyter-server<3,>=2.4.0->notebook>=4.4.1->widgetsnbextension~=3.6.6->ipywidgets<8.0,>=7.5->dataprep) (1.5.0)\n",
      "Requirement already satisfied: tinycss2 in /home/codespace/.local/lib/python3.10/site-packages (from nbconvert>=6.4.4->jupyter-server<3,>=2.4.0->notebook>=4.4.1->widgetsnbextension~=3.6.6->ipywidgets<8.0,>=7.5->dataprep) (1.2.1)\n",
      "Requirement already satisfied: fastjsonschema in /home/codespace/.local/lib/python3.10/site-packages (from nbformat>=5.3.0->jupyter-server<3,>=2.4.0->notebook>=4.4.1->widgetsnbextension~=3.6.6->ipywidgets<8.0,>=7.5->dataprep) (2.18.0)\n",
      "Requirement already satisfied: urllib3<3,>=1.21.1 in /home/codespace/.local/lib/python3.10/site-packages (from requests>=2.28->jupyterlab-server<3,>=2.22.1->notebook>=4.4.1->widgetsnbextension~=3.6.6->ipywidgets<8.0,>=7.5->dataprep) (2.0.4)\n",
      "Requirement already satisfied: certifi>=2017.4.17 in /home/codespace/.local/lib/python3.10/site-packages (from requests>=2.28->jupyterlab-server<3,>=2.22.1->notebook>=4.4.1->widgetsnbextension~=3.6.6->ipywidgets<8.0,>=7.5->dataprep) (2023.7.22)\n",
      "Requirement already satisfied: argon2-cffi-bindings in /home/codespace/.local/lib/python3.10/site-packages (from argon2-cffi->jupyter-server<3,>=2.4.0->notebook>=4.4.1->widgetsnbextension~=3.6.6->ipywidgets<8.0,>=7.5->dataprep) (21.2.0)\n",
      "Requirement already satisfied: debugpy>=1.6.5 in /home/codespace/.local/lib/python3.10/site-packages (from ipykernel->jupyterlab<5,>=4.0.2->notebook>=4.4.1->widgetsnbextension~=3.6.6->ipywidgets<8.0,>=7.5->dataprep) (1.6.7.post1)\n",
      "Requirement already satisfied: nest-asyncio in /home/codespace/.local/lib/python3.10/site-packages (from ipykernel->jupyterlab<5,>=4.0.2->notebook>=4.4.1->widgetsnbextension~=3.6.6->ipywidgets<8.0,>=7.5->dataprep) (1.5.7)\n",
      "Requirement already satisfied: psutil in /home/codespace/.local/lib/python3.10/site-packages (from ipykernel->jupyterlab<5,>=4.0.2->notebook>=4.4.1->widgetsnbextension~=3.6.6->ipywidgets<8.0,>=7.5->dataprep) (5.9.5)\n",
      "Requirement already satisfied: webencodings in /home/codespace/.local/lib/python3.10/site-packages (from bleach!=5.0.0->nbconvert>=6.4.4->jupyter-server<3,>=2.4.0->notebook>=4.4.1->widgetsnbextension~=3.6.6->ipywidgets<8.0,>=7.5->dataprep) (0.5.1)\n",
      "Requirement already satisfied: fqdn in /home/codespace/.local/lib/python3.10/site-packages (from jsonschema>=4.17.3->jupyterlab-server<3,>=2.22.1->notebook>=4.4.1->widgetsnbextension~=3.6.6->ipywidgets<8.0,>=7.5->dataprep) (1.5.1)\n",
      "Requirement already satisfied: isoduration in /home/codespace/.local/lib/python3.10/site-packages (from jsonschema>=4.17.3->jupyterlab-server<3,>=2.22.1->notebook>=4.4.1->widgetsnbextension~=3.6.6->ipywidgets<8.0,>=7.5->dataprep) (20.11.0)\n",
      "Requirement already satisfied: jsonpointer>1.13 in /home/codespace/.local/lib/python3.10/site-packages (from jsonschema>=4.17.3->jupyterlab-server<3,>=2.22.1->notebook>=4.4.1->widgetsnbextension~=3.6.6->ipywidgets<8.0,>=7.5->dataprep) (2.4)\n",
      "Requirement already satisfied: uri-template in /home/codespace/.local/lib/python3.10/site-packages (from jsonschema>=4.17.3->jupyterlab-server<3,>=2.22.1->notebook>=4.4.1->widgetsnbextension~=3.6.6->ipywidgets<8.0,>=7.5->dataprep) (1.3.0)\n",
      "Requirement already satisfied: webcolors>=1.11 in /home/codespace/.local/lib/python3.10/site-packages (from jsonschema>=4.17.3->jupyterlab-server<3,>=2.22.1->notebook>=4.4.1->widgetsnbextension~=3.6.6->ipywidgets<8.0,>=7.5->dataprep) (1.13)\n",
      "Requirement already satisfied: cffi>=1.0.1 in /home/codespace/.local/lib/python3.10/site-packages (from argon2-cffi-bindings->argon2-cffi->jupyter-server<3,>=2.4.0->notebook>=4.4.1->widgetsnbextension~=3.6.6->ipywidgets<8.0,>=7.5->dataprep) (1.15.1)\n",
      "Requirement already satisfied: soupsieve>1.2 in /home/codespace/.local/lib/python3.10/site-packages (from beautifulsoup4->nbconvert>=6.4.4->jupyter-server<3,>=2.4.0->notebook>=4.4.1->widgetsnbextension~=3.6.6->ipywidgets<8.0,>=7.5->dataprep) (2.4.1)\n",
      "Requirement already satisfied: pycparser in /home/codespace/.local/lib/python3.10/site-packages (from cffi>=1.0.1->argon2-cffi-bindings->argon2-cffi->jupyter-server<3,>=2.4.0->notebook>=4.4.1->widgetsnbextension~=3.6.6->ipywidgets<8.0,>=7.5->dataprep) (2.21)\n",
      "Requirement already satisfied: arrow>=0.15.0 in /home/codespace/.local/lib/python3.10/site-packages (from isoduration->jsonschema>=4.17.3->jupyterlab-server<3,>=2.22.1->notebook>=4.4.1->widgetsnbextension~=3.6.6->ipywidgets<8.0,>=7.5->dataprep) (1.2.3)\n"
     ]
    }
   ],
   "source": [
    "import pandas as pd\n",
    "import numpy as nd\n",
    "import statistics as sts\n",
    "import matplotlib.pyplot as plt\n",
    "import seaborn as sns\n",
    "from sklearn.model_selection import (train_test_split,cross_val_score)\n",
    "from imblearn.metrics import specificity_score\n",
    "from sklearn import metrics\n",
    "from sklearn.metrics import (cohen_kappa_score, confusion_matrix, accuracy_score,\n",
    "precision_score, recall_score, f1_score,roc_auc_score, roc_curve, auc, r2_score,classification_report)\n",
    "!pip install dataprep\n"
   ]
  },
  {
   "cell_type": "code",
   "execution_count": null,
   "id": "c77d364e",
   "metadata": {},
   "outputs": [
    {
     "data": {
      "text/html": [
       "<div>\n",
       "<style scoped>\n",
       "    .dataframe tbody tr th:only-of-type {\n",
       "        vertical-align: middle;\n",
       "    }\n",
       "\n",
       "    .dataframe tbody tr th {\n",
       "        vertical-align: top;\n",
       "    }\n",
       "\n",
       "    .dataframe thead th {\n",
       "        text-align: right;\n",
       "    }\n",
       "</style>\n",
       "<table border=\"1\" class=\"dataframe\">\n",
       "  <thead>\n",
       "    <tr style=\"text-align: right;\">\n",
       "      <th></th>\n",
       "      <th>age</th>\n",
       "      <th>gender</th>\n",
       "      <th>height</th>\n",
       "      <th>weight</th>\n",
       "      <th>ap_hi</th>\n",
       "      <th>ap_lo</th>\n",
       "      <th>cholesterol</th>\n",
       "      <th>gluc</th>\n",
       "      <th>smoke</th>\n",
       "      <th>alco</th>\n",
       "      <th>active</th>\n",
       "      <th>cardio</th>\n",
       "    </tr>\n",
       "  </thead>\n",
       "  <tbody>\n",
       "    <tr>\n",
       "      <th>0</th>\n",
       "      <td>18393</td>\n",
       "      <td>2</td>\n",
       "      <td>168</td>\n",
       "      <td>62.0</td>\n",
       "      <td>110</td>\n",
       "      <td>80</td>\n",
       "      <td>1</td>\n",
       "      <td>1</td>\n",
       "      <td>0</td>\n",
       "      <td>0</td>\n",
       "      <td>1</td>\n",
       "      <td>0</td>\n",
       "    </tr>\n",
       "    <tr>\n",
       "      <th>1</th>\n",
       "      <td>20228</td>\n",
       "      <td>1</td>\n",
       "      <td>156</td>\n",
       "      <td>85.0</td>\n",
       "      <td>140</td>\n",
       "      <td>90</td>\n",
       "      <td>3</td>\n",
       "      <td>1</td>\n",
       "      <td>0</td>\n",
       "      <td>0</td>\n",
       "      <td>1</td>\n",
       "      <td>1</td>\n",
       "    </tr>\n",
       "    <tr>\n",
       "      <th>2</th>\n",
       "      <td>18857</td>\n",
       "      <td>1</td>\n",
       "      <td>165</td>\n",
       "      <td>64.0</td>\n",
       "      <td>130</td>\n",
       "      <td>70</td>\n",
       "      <td>3</td>\n",
       "      <td>1</td>\n",
       "      <td>0</td>\n",
       "      <td>0</td>\n",
       "      <td>0</td>\n",
       "      <td>1</td>\n",
       "    </tr>\n",
       "    <tr>\n",
       "      <th>3</th>\n",
       "      <td>17623</td>\n",
       "      <td>2</td>\n",
       "      <td>169</td>\n",
       "      <td>82.0</td>\n",
       "      <td>150</td>\n",
       "      <td>100</td>\n",
       "      <td>1</td>\n",
       "      <td>1</td>\n",
       "      <td>0</td>\n",
       "      <td>0</td>\n",
       "      <td>1</td>\n",
       "      <td>1</td>\n",
       "    </tr>\n",
       "    <tr>\n",
       "      <th>4</th>\n",
       "      <td>17474</td>\n",
       "      <td>1</td>\n",
       "      <td>156</td>\n",
       "      <td>56.0</td>\n",
       "      <td>100</td>\n",
       "      <td>60</td>\n",
       "      <td>1</td>\n",
       "      <td>1</td>\n",
       "      <td>0</td>\n",
       "      <td>0</td>\n",
       "      <td>0</td>\n",
       "      <td>0</td>\n",
       "    </tr>\n",
       "  </tbody>\n",
       "</table>\n",
       "</div>"
      ],
      "text/plain": [
       "     age  gender  height  weight  ap_hi  ap_lo  cholesterol  gluc  smoke  \\\n",
       "0  18393       2     168    62.0    110     80            1     1      0   \n",
       "1  20228       1     156    85.0    140     90            3     1      0   \n",
       "2  18857       1     165    64.0    130     70            3     1      0   \n",
       "3  17623       2     169    82.0    150    100            1     1      0   \n",
       "4  17474       1     156    56.0    100     60            1     1      0   \n",
       "\n",
       "   alco  active  cardio  \n",
       "0     0       1       0  \n",
       "1     0       1       1  \n",
       "2     0       0       1  \n",
       "3     0       1       1  \n",
       "4     0       0       0  "
      ]
     },
     "execution_count": 34,
     "metadata": {},
     "output_type": "execute_result"
    }
   ],
   "source": [
    "df = pd.read_csv('./base/dados.csv')\n",
    "df.head()"
   ]
  },
  {
   "cell_type": "code",
   "execution_count": null,
   "id": "8b455377",
   "metadata": {},
   "outputs": [
    {
     "data": {
      "text/plain": [
       "(69976, 12)"
      ]
     },
     "execution_count": 35,
     "metadata": {},
     "output_type": "execute_result"
    }
   ],
   "source": [
    "df.shape"
   ]
  },
  {
   "cell_type": "code",
   "execution_count": null,
   "id": "8c589795",
   "metadata": {},
   "outputs": [],
   "source": [
    "df.columns = ['idade','genero','altura','peso','p_sistolica','p_diastolica',\n",
    "             'colesterol','glicose','fumante','bebida_alcool','ativo','cardio']"
   ]
  },
  {
   "cell_type": "code",
   "execution_count": null,
   "id": "64ddf71a",
   "metadata": {},
   "outputs": [
    {
     "data": {
      "text/plain": [
       "(69976, 12)"
      ]
     },
     "execution_count": 37,
     "metadata": {},
     "output_type": "execute_result"
    }
   ],
   "source": [
    "df.shape"
   ]
  },
  {
   "cell_type": "code",
   "execution_count": null,
   "id": "71b0f191",
   "metadata": {},
   "outputs": [
    {
     "data": {
      "text/html": [
       "<div>\n",
       "<style scoped>\n",
       "    .dataframe tbody tr th:only-of-type {\n",
       "        vertical-align: middle;\n",
       "    }\n",
       "\n",
       "    .dataframe tbody tr th {\n",
       "        vertical-align: top;\n",
       "    }\n",
       "\n",
       "    .dataframe thead th {\n",
       "        text-align: right;\n",
       "    }\n",
       "</style>\n",
       "<table border=\"1\" class=\"dataframe\">\n",
       "  <thead>\n",
       "    <tr style=\"text-align: right;\">\n",
       "      <th></th>\n",
       "      <th>idade</th>\n",
       "      <th>genero</th>\n",
       "      <th>altura</th>\n",
       "      <th>peso</th>\n",
       "      <th>p_sistolica</th>\n",
       "      <th>p_diastolica</th>\n",
       "      <th>colesterol</th>\n",
       "      <th>glicose</th>\n",
       "      <th>fumante</th>\n",
       "      <th>bebida_alcool</th>\n",
       "      <th>ativo</th>\n",
       "      <th>cardio</th>\n",
       "    </tr>\n",
       "  </thead>\n",
       "  <tbody>\n",
       "    <tr>\n",
       "      <th>0</th>\n",
       "      <td>18393</td>\n",
       "      <td>2</td>\n",
       "      <td>168</td>\n",
       "      <td>62.0</td>\n",
       "      <td>110</td>\n",
       "      <td>80</td>\n",
       "      <td>1</td>\n",
       "      <td>1</td>\n",
       "      <td>0</td>\n",
       "      <td>0</td>\n",
       "      <td>1</td>\n",
       "      <td>0</td>\n",
       "    </tr>\n",
       "    <tr>\n",
       "      <th>1</th>\n",
       "      <td>20228</td>\n",
       "      <td>1</td>\n",
       "      <td>156</td>\n",
       "      <td>85.0</td>\n",
       "      <td>140</td>\n",
       "      <td>90</td>\n",
       "      <td>3</td>\n",
       "      <td>1</td>\n",
       "      <td>0</td>\n",
       "      <td>0</td>\n",
       "      <td>1</td>\n",
       "      <td>1</td>\n",
       "    </tr>\n",
       "    <tr>\n",
       "      <th>2</th>\n",
       "      <td>18857</td>\n",
       "      <td>1</td>\n",
       "      <td>165</td>\n",
       "      <td>64.0</td>\n",
       "      <td>130</td>\n",
       "      <td>70</td>\n",
       "      <td>3</td>\n",
       "      <td>1</td>\n",
       "      <td>0</td>\n",
       "      <td>0</td>\n",
       "      <td>0</td>\n",
       "      <td>1</td>\n",
       "    </tr>\n",
       "    <tr>\n",
       "      <th>3</th>\n",
       "      <td>17623</td>\n",
       "      <td>2</td>\n",
       "      <td>169</td>\n",
       "      <td>82.0</td>\n",
       "      <td>150</td>\n",
       "      <td>100</td>\n",
       "      <td>1</td>\n",
       "      <td>1</td>\n",
       "      <td>0</td>\n",
       "      <td>0</td>\n",
       "      <td>1</td>\n",
       "      <td>1</td>\n",
       "    </tr>\n",
       "    <tr>\n",
       "      <th>4</th>\n",
       "      <td>17474</td>\n",
       "      <td>1</td>\n",
       "      <td>156</td>\n",
       "      <td>56.0</td>\n",
       "      <td>100</td>\n",
       "      <td>60</td>\n",
       "      <td>1</td>\n",
       "      <td>1</td>\n",
       "      <td>0</td>\n",
       "      <td>0</td>\n",
       "      <td>0</td>\n",
       "      <td>0</td>\n",
       "    </tr>\n",
       "  </tbody>\n",
       "</table>\n",
       "</div>"
      ],
      "text/plain": [
       "   idade  genero  altura  peso  p_sistolica  p_diastolica  colesterol  \\\n",
       "0  18393       2     168  62.0          110            80           1   \n",
       "1  20228       1     156  85.0          140            90           3   \n",
       "2  18857       1     165  64.0          130            70           3   \n",
       "3  17623       2     169  82.0          150           100           1   \n",
       "4  17474       1     156  56.0          100            60           1   \n",
       "\n",
       "   glicose  fumante  bebida_alcool  ativo  cardio  \n",
       "0        1        0              0      1       0  \n",
       "1        1        0              0      1       1  \n",
       "2        1        0              0      0       1  \n",
       "3        1        0              0      1       1  \n",
       "4        1        0              0      0       0  "
      ]
     },
     "execution_count": 38,
     "metadata": {},
     "output_type": "execute_result"
    }
   ],
   "source": [
    "df.head()"
   ]
  },
  {
   "cell_type": "code",
   "execution_count": null,
   "id": "19632c8d",
   "metadata": {},
   "outputs": [
    {
     "name": "stdout",
     "output_type": "stream",
     "text": [
      "<class 'pandas.core.frame.DataFrame'>\n",
      "RangeIndex: 69976 entries, 0 to 69975\n",
      "Data columns (total 12 columns):\n",
      " #   Column         Non-Null Count  Dtype  \n",
      "---  ------         --------------  -----  \n",
      " 0   idade          69976 non-null  int64  \n",
      " 1   genero         69976 non-null  int64  \n",
      " 2   altura         69976 non-null  int64  \n",
      " 3   peso           69976 non-null  float64\n",
      " 4   p_sistolica    69976 non-null  int64  \n",
      " 5   p_diastolica   69976 non-null  int64  \n",
      " 6   colesterol     69976 non-null  int64  \n",
      " 7   glicose        69976 non-null  int64  \n",
      " 8   fumante        69976 non-null  int64  \n",
      " 9   bebida_alcool  69976 non-null  int64  \n",
      " 10  ativo          69976 non-null  int64  \n",
      " 11  cardio         69976 non-null  int64  \n",
      "dtypes: float64(1), int64(11)\n",
      "memory usage: 6.4 MB\n"
     ]
    }
   ],
   "source": [
    "df.info()"
   ]
  },
  {
   "cell_type": "code",
   "execution_count": null,
   "id": "e181856c",
   "metadata": {},
   "outputs": [
    {
     "data": {
      "text/plain": [
       "idade            0\n",
       "genero           0\n",
       "altura           0\n",
       "peso             0\n",
       "p_sistolica      0\n",
       "p_diastolica     0\n",
       "colesterol       0\n",
       "glicose          0\n",
       "fumante          0\n",
       "bebida_alcool    0\n",
       "ativo            0\n",
       "cardio           0\n",
       "dtype: int64"
      ]
     },
     "execution_count": 40,
     "metadata": {},
     "output_type": "execute_result"
    }
   ],
   "source": [
    "df.isnull().sum()"
   ]
  },
  {
   "cell_type": "code",
   "execution_count": null,
   "id": "27a3a66e",
   "metadata": {},
   "outputs": [
    {
     "data": {
      "text/plain": [
       "idade            -0.307076\n",
       "genero            0.630605\n",
       "altura           -0.642142\n",
       "peso              1.011633\n",
       "p_sistolica      85.281695\n",
       "p_diastolica     32.108622\n",
       "colesterol        1.586588\n",
       "glicose           2.396858\n",
       "fumante           2.905204\n",
       "bebida_alcool     3.955803\n",
       "ativo            -1.529392\n",
       "cardio            0.000915\n",
       "dtype: float64"
      ]
     },
     "execution_count": 41,
     "metadata": {},
     "output_type": "execute_result"
    }
   ],
   "source": [
    "df.skew()"
   ]
  },
  {
   "cell_type": "code",
   "execution_count": null,
   "id": "645a6edb",
   "metadata": {},
   "outputs": [
    {
     "data": {
      "text/plain": [
       "idade              -0.823501\n",
       "genero             -1.602383\n",
       "altura              7.941495\n",
       "peso                2.585593\n",
       "p_sistolica      7577.487566\n",
       "p_diastolica     1425.428849\n",
       "colesterol          0.992126\n",
       "glicose             4.291350\n",
       "fumante             6.440396\n",
       "bebida_alcool      13.648769\n",
       "ativo               0.339048\n",
       "cardio             -2.000056\n",
       "dtype: float64"
      ]
     },
     "execution_count": 42,
     "metadata": {},
     "output_type": "execute_result"
    }
   ],
   "source": [
    "df.kurt()"
   ]
  },
  {
   "cell_type": "code",
   "execution_count": null,
   "id": "4fb1a0c1",
   "metadata": {},
   "outputs": [
    {
     "data": {
      "image/png": "[encoded data removed]",
      "text/plain": [
       "<Figure size 2000x800 with 2 Axes>"
      ]
     },
     "metadata": {},
     "output_type": "display_data"
    }
   ],
   "source": [
    "fig, ax = plt.subplots(figsize=(20,8))\n",
    "ax = sns.heatmap(df.corr(method='spearman'), annot = True, fmt=\".1f\", linewidths=.6)\n",
    "ax.set_title('Correlação Spearman')\n",
    "plt.show()"
   ]
  },
  {
   "cell_type": "code",
   "execution_count": null,
   "id": "bab518ce",
   "metadata": {},
   "outputs": [],
   "source": [
    "'''\n",
    "def insideStdDevs(col: str, stddevs: int = 2):\n",
    "    μ = sts.mean(df[col])\n",
    "    desv = sts.stdev(df[col])\n",
    "    desv\n",
    "    df.drop(df[df[col] > μ + (desv * stddevs)].index, inplace=True)\n",
    "    df[df[col] > μ + (desv * stddevs)]\n",
    "    df.drop(df[df[col] < μ - (desv * stddevs)].index, inplace=True)\n",
    "    df[df[col] < μ - (desv * stddevs)] '''\n",
    "\n",
    "from sklearn.utils import resample\n",
    "\n",
    "#df.reset_index()\n",
    "\n",
    "mask = df['fumante'] == 1\n",
    "surv_df = df[mask]\n",
    "death_df = df[~mask]\n",
    "\n",
    "df_upsample = resample(surv_df, replace=True, n_samples=len(death_df), random_state=1337)\n",
    "df = pd.concat([death_df,df_upsample])\n",
    "\n",
    "mask = df['ativo'] == 0\n",
    "surv_df = df[mask]\n",
    "death_df = df[~mask]\n",
    "\n",
    "df_upsample = resample(surv_df, replace=True, n_samples=len(death_df), random_state=1337)\n",
    "df = pd.concat([death_df,df_upsample])\n",
    "\n",
    "\n",
    "\n",
    "\n",
    "\n"
   ]
  },
  {
   "cell_type": "code",
   "execution_count": null,
   "id": "79296564",
   "metadata": {},
   "outputs": [
    {
     "name": "stdout",
     "output_type": "stream",
     "text": [
      "fumante\n",
      "0    108311\n",
      "1    100447\n",
      "Name: count, dtype: int64\n",
      "ativo\n",
      "1    104379\n",
      "0    104379\n",
      "Name: count, dtype: int64\n"
     ]
    }
   ],
   "source": [
    "print(f'{df.fumante.value_counts()}\\n{df.ativo.value_counts()}')"
   ]
  },
  {
   "cell_type": "code",
   "execution_count": null,
   "id": "3b268c74",
   "metadata": {},
   "outputs": [],
   "source": [
    "df.to_csv(\"fumante_e_ativo_upsample.csv\")"
   ]
  },
  {
   "cell_type": "code",
   "execution_count": null,
   "id": "194c9cae",
   "metadata": {},
   "outputs": [],
   "source": [
    "mask = df['ativo'] == 0\n",
    "surv_df = df[mask]\n",
    "death_df = df[~mask]\n",
    "\n",
    "df_upsample = resample(surv_df, replace=True, n_samples=len(death_df), random_state=1337)\n",
    "df = pd.concat([death_df,df_upsample])\n"
   ]
  },
  {
   "cell_type": "code",
   "execution_count": null,
   "id": "ea6f7b5b",
   "metadata": {},
   "outputs": [
    {
     "data": {
      "application/vnd.jupyter.widget-view+json": {
       "model_id": "bf16fa2b39184af99db97b9b861fa1ea",
       "version_major": 2,
       "version_minor": 0
      },
      "text/plain": [
       "  0%|          | 0/1611 [00:00<?, ?it/s]"
      ]
     },
     "metadata": {},
     "output_type": "display_data"
    },
    {
     "name": "stderr",
     "output_type": "stream",
     "text": [
      "/home/codespace/.python/current/lib/python3.10/site-packages/dask/core.py:127: RuntimeWarning: invalid value encountered in divide\n",
      "  return func(*(_execute_task(a, cache) for a in args))\n",
      "error happended in column:genero\n"
     ]
    },
    {
     "ename": "KeyError",
     "evalue": "'genero'",
     "output_type": "error",
     "traceback": [
      "\u001b[0;31m---------------------------------------------------------------------------\u001b[0m",
      "\u001b[0;31mKeyError\u001b[0m                                  Traceback (most recent call last)",
      "File \u001b[0;32m~/.local/lib/python3.10/site-packages/pandas/core/indexes/base.py:3653\u001b[0m, in \u001b[0;36mget_loc\u001b[0;34m(self, key)\u001b[0m\n",
      "File \u001b[0;32m~/.python/current/lib/python3.10/site-packages/pandas/_libs/index.pyx:147\u001b[0m, in \u001b[0;36mpandas._libs.index.IndexEngine.get_loc\u001b[0;34m()\u001b[0m\n",
      "File \u001b[0;32m~/.python/current/lib/python3.10/site-packages/pandas/_libs/index.pyx:176\u001b[0m, in \u001b[0;36mpandas._libs.index.IndexEngine.get_loc\u001b[0;34m()\u001b[0m\n",
      "File \u001b[0;32mpandas/_libs/hashtable_class_helper.pxi:7080\u001b[0m, in \u001b[0;36mpandas._libs.hashtable.PyObjectHashTable.get_item\u001b[0;34m()\u001b[0m\n",
      "File \u001b[0;32mpandas/_libs/hashtable_class_helper.pxi:7088\u001b[0m, in \u001b[0;36mpandas._libs.hashtable.PyObjectHashTable.get_item\u001b[0;34m()\u001b[0m\n",
      "\u001b[0;31mKeyError\u001b[0m: 'genero'",
      "\nThe above exception was the direct cause of the following exception:\n",
      "\u001b[0;31mKeyError\u001b[0m                                  Traceback (most recent call last)",
      "\u001b[1;32m/workspaces/ifpr-normalizacao-database/newbook_III.ipynb Cell 15\u001b[0m line \u001b[0;36m1\n\u001b[1;32m      <a href='vscode-notebook-cell://codespaces%2Brefactored-dollop-gjwvqg9j65jhwvxv/workspaces/ifpr-normalizacao-database/newbook_III.ipynb#X20sdnNjb2RlLXJlbW90ZQ%3D%3D?line=0'>1</a>\u001b[0m \u001b[39m'''cols = [\"colesterol\", \"glicose\", \"fumante\", \"bebida_alcool\", \"ativo\"]\u001b[39;00m\n\u001b[1;32m      <a href='vscode-notebook-cell://codespaces%2Brefactored-dollop-gjwvqg9j65jhwvxv/workspaces/ifpr-normalizacao-database/newbook_III.ipynb#X20sdnNjb2RlLXJlbW90ZQ%3D%3D?line=1'>2</a>\u001b[0m \u001b[39mfor col in cols:\u001b[39;00m\n\u001b[1;32m      <a href='vscode-notebook-cell://codespaces%2Brefactored-dollop-gjwvqg9j65jhwvxv/workspaces/ifpr-normalizacao-database/newbook_III.ipynb#X20sdnNjb2RlLXJlbW90ZQ%3D%3D?line=2'>3</a>\u001b[0m \u001b[39m    temp = pd.get_dummies(df[col], dtype=int)\u001b[39;00m\n\u001b[0;32m   (...)\u001b[0m\n\u001b[1;32m     <a href='vscode-notebook-cell://codespaces%2Brefactored-dollop-gjwvqg9j65jhwvxv/workspaces/ifpr-normalizacao-database/newbook_III.ipynb#X20sdnNjb2RlLXJlbW90ZQ%3D%3D?line=12'>13</a>\u001b[0m \n\u001b[1;32m     <a href='vscode-notebook-cell://codespaces%2Brefactored-dollop-gjwvqg9j65jhwvxv/workspaces/ifpr-normalizacao-database/newbook_III.ipynb#X20sdnNjb2RlLXJlbW90ZQ%3D%3D?line=13'>14</a>\u001b[0m \u001b[39mdf'''\u001b[39;00m\n\u001b[1;32m     <a href='vscode-notebook-cell://codespaces%2Brefactored-dollop-gjwvqg9j65jhwvxv/workspaces/ifpr-normalizacao-database/newbook_III.ipynb#X20sdnNjb2RlLXJlbW90ZQ%3D%3D?line=15'>16</a>\u001b[0m \u001b[39mfrom\u001b[39;00m \u001b[39mdataprep\u001b[39;00m\u001b[39m.\u001b[39;00m\u001b[39meda\u001b[39;00m \u001b[39mimport\u001b[39;00m create_report\n\u001b[0;32m---> <a href='vscode-notebook-cell://codespaces%2Brefactored-dollop-gjwvqg9j65jhwvxv/workspaces/ifpr-normalizacao-database/newbook_III.ipynb#X20sdnNjb2RlLXJlbW90ZQ%3D%3D?line=16'>17</a>\u001b[0m create_report(df)\u001b[39m.\u001b[39mshow_browser()\n",
      "File \u001b[0;32m~/.python/current/lib/python3.10/site-packages/dataprep/eda/create_report/__init__.py:68\u001b[0m, in \u001b[0;36mcreate_report\u001b[0;34m(df, config, display, title, mode, progress)\u001b[0m\n\u001b[1;32m     63\u001b[0m _suppress_warnings()\n\u001b[1;32m     64\u001b[0m cfg \u001b[39m=\u001b[39m Config\u001b[39m.\u001b[39mfrom_dict(display, config)\n\u001b[1;32m     65\u001b[0m context \u001b[39m=\u001b[39m {\n\u001b[1;32m     66\u001b[0m     \u001b[39m\"\u001b[39m\u001b[39mresources\u001b[39m\u001b[39m\"\u001b[39m: INLINE\u001b[39m.\u001b[39mrender(),\n\u001b[1;32m     67\u001b[0m     \u001b[39m\"\u001b[39m\u001b[39mtitle\u001b[39m\u001b[39m\"\u001b[39m: title,\n\u001b[0;32m---> 68\u001b[0m     \u001b[39m\"\u001b[39m\u001b[39mcomponents\u001b[39m\u001b[39m\"\u001b[39m: format_report(df, cfg, mode, progress),\n\u001b[1;32m     69\u001b[0m }\n\u001b[1;32m     70\u001b[0m template_base \u001b[39m=\u001b[39m ENV_LOADER\u001b[39m.\u001b[39mget_template(\u001b[39m\"\u001b[39m\u001b[39mbase.html\u001b[39m\u001b[39m\"\u001b[39m)\n\u001b[1;32m     71\u001b[0m report \u001b[39m=\u001b[39m template_base\u001b[39m.\u001b[39mrender(context\u001b[39m=\u001b[39mcontext)\n",
      "File \u001b[0;32m~/.python/current/lib/python3.10/site-packages/dataprep/eda/create_report/formatter.py:78\u001b[0m, in \u001b[0;36mformat_report\u001b[0;34m(df, cfg, mode, progress)\u001b[0m\n\u001b[1;32m     76\u001b[0m \u001b[39mif\u001b[39;00m mode \u001b[39m==\u001b[39m \u001b[39m\"\u001b[39m\u001b[39mbasic\u001b[39m\u001b[39m\"\u001b[39m:\n\u001b[1;32m     77\u001b[0m     edaframe \u001b[39m=\u001b[39m EDAFrame(df)\n\u001b[0;32m---> 78\u001b[0m     comps \u001b[39m=\u001b[39m format_basic(edaframe, cfg)\n\u001b[1;32m     79\u001b[0m \u001b[39m# elif mode == \"full\":\u001b[39;00m\n\u001b[1;32m     80\u001b[0m \u001b[39m#     comps = format_full(df)\u001b[39;00m\n\u001b[1;32m     81\u001b[0m \u001b[39m# elif mode == \"minimal\":\u001b[39;00m\n\u001b[1;32m     82\u001b[0m \u001b[39m#     comps = format_mini(df)\u001b[39;00m\n\u001b[1;32m     83\u001b[0m \u001b[39melse\u001b[39;00m:\n\u001b[1;32m     84\u001b[0m     \u001b[39mraise\u001b[39;00m \u001b[39mValueError\u001b[39;00m(\u001b[39mf\u001b[39m\u001b[39m\"\u001b[39m\u001b[39mUnknown mode: \u001b[39m\u001b[39m{\u001b[39;00mmode\u001b[39m}\u001b[39;00m\u001b[39m\"\u001b[39m)\n",
      "File \u001b[0;32m~/.python/current/lib/python3.10/site-packages/dataprep/eda/create_report/formatter.py:291\u001b[0m, in \u001b[0;36mformat_basic\u001b[0;34m(df, cfg)\u001b[0m\n\u001b[1;32m    288\u001b[0m     (data,) \u001b[39m=\u001b[39m dask\u001b[39m.\u001b[39mcompute(data)\n\u001b[1;32m    290\u001b[0m res_overview \u001b[39m=\u001b[39m _format_overview(data, cfg)\n\u001b[0;32m--> 291\u001b[0m res_variables \u001b[39m=\u001b[39m _format_variables(df, cfg, data)\n\u001b[1;32m    292\u001b[0m res_interaction \u001b[39m=\u001b[39m _format_interaction(data, cfg)\n\u001b[1;32m    293\u001b[0m res_correlations \u001b[39m=\u001b[39m _format_correlation(data, cfg)\n",
      "File \u001b[0;32m~/.python/current/lib/python3.10/site-packages/dataprep/eda/create_report/formatter.py:120\u001b[0m, in \u001b[0;36m_format_variables\u001b[0;34m(df, cfg, data)\u001b[0m\n\u001b[1;32m    117\u001b[0m \u001b[39melse\u001b[39;00m:\n\u001b[1;32m    118\u001b[0m     \u001b[39mraise\u001b[39;00m \u001b[39mRuntimeError\u001b[39;00m(\u001b[39mf\u001b[39m\u001b[39m\"\u001b[39m\u001b[39mthe type of column \u001b[39m\u001b[39m{\u001b[39;00mcol\u001b[39m}\u001b[39;00m\u001b[39m is unknown: \u001b[39m\u001b[39m{\u001b[39;00m\u001b[39mtype\u001b[39m(dtp)\u001b[39m}\u001b[39;00m\u001b[39m\"\u001b[39m)\n\u001b[0;32m--> 120\u001b[0m rndrd \u001b[39m=\u001b[39m render(itmdt, cfg)\n\u001b[1;32m    121\u001b[0m layout \u001b[39m=\u001b[39m rndrd[\u001b[39m\"\u001b[39m\u001b[39mlayout\u001b[39m\u001b[39m\"\u001b[39m]\n\u001b[1;32m    122\u001b[0m figs_var: List[Figure] \u001b[39m=\u001b[39m []\n",
      "File \u001b[0;32m~/.python/current/lib/python3.10/site-packages/dataprep/eda/distribution/render.py:2473\u001b[0m, in \u001b[0;36mrender\u001b[0;34m(itmdt, cfg)\u001b[0m\n\u001b[1;32m   2471\u001b[0m     visual_elem \u001b[39m=\u001b[39m render_distribution_grid(itmdt, cfg)\n\u001b[1;32m   2472\u001b[0m \u001b[39melif\u001b[39;00m itmdt\u001b[39m.\u001b[39mvisual_type \u001b[39m==\u001b[39m \u001b[39m\"\u001b[39m\u001b[39mcategorical_column\u001b[39m\u001b[39m\"\u001b[39m:\n\u001b[0;32m-> 2473\u001b[0m     visual_elem \u001b[39m=\u001b[39m render_cat(itmdt, cfg)\n\u001b[1;32m   2474\u001b[0m \u001b[39melif\u001b[39;00m itmdt\u001b[39m.\u001b[39mvisual_type \u001b[39m==\u001b[39m \u001b[39m\"\u001b[39m\u001b[39mgeography_column\u001b[39m\u001b[39m\"\u001b[39m:\n\u001b[1;32m   2475\u001b[0m     visual_elem \u001b[39m=\u001b[39m render_geo(itmdt, cfg)\n",
      "File \u001b[0;32m~/.python/current/lib/python3.10/site-packages/dataprep/eda/distribution/render.py:1573\u001b[0m, in \u001b[0;36mrender_cat\u001b[0;34m(itmdt, cfg)\u001b[0m\n\u001b[1;32m   1567\u001b[0m     stats, len_stats, letter_stats \u001b[39m=\u001b[39m (\n\u001b[1;32m   1568\u001b[0m         data[\u001b[39m\"\u001b[39m\u001b[39mstats\u001b[39m\u001b[39m\"\u001b[39m],\n\u001b[1;32m   1569\u001b[0m         data[\u001b[39m\"\u001b[39m\u001b[39mlen_stats\u001b[39m\u001b[39m\"\u001b[39m],\n\u001b[1;32m   1570\u001b[0m         data[\u001b[39m\"\u001b[39m\u001b[39mletter_stats\u001b[39m\u001b[39m\"\u001b[39m],\n\u001b[1;32m   1571\u001b[0m     )\n\u001b[1;32m   1572\u001b[0m \u001b[39mif\u001b[39;00m cfg\u001b[39m.\u001b[39mbar\u001b[39m.\u001b[39menable:\n\u001b[0;32m-> 1573\u001b[0m     fig \u001b[39m=\u001b[39m bar_viz(\n\u001b[1;32m   1574\u001b[0m         data[\u001b[39m\"\u001b[39;49m\u001b[39mbar\u001b[39;49m\u001b[39m\"\u001b[39;49m]\u001b[39m.\u001b[39;49mto_frame(),\n\u001b[1;32m   1575\u001b[0m         data[\u001b[39m\"\u001b[39;49m\u001b[39mnuniq\u001b[39;49m\u001b[39m\"\u001b[39;49m],\n\u001b[1;32m   1576\u001b[0m         data[\u001b[39m\"\u001b[39;49m\u001b[39mnrows\u001b[39;49m\u001b[39m\"\u001b[39;49m],\n\u001b[1;32m   1577\u001b[0m         col,\n\u001b[1;32m   1578\u001b[0m         plot_width_bar,\n\u001b[1;32m   1579\u001b[0m         plot_height_bar,\n\u001b[1;32m   1580\u001b[0m         \u001b[39mTrue\u001b[39;49;00m,\n\u001b[1;32m   1581\u001b[0m         cfg\u001b[39m.\u001b[39;49mbar,\n\u001b[1;32m   1582\u001b[0m     )\n\u001b[1;32m   1583\u001b[0m     tabs\u001b[39m.\u001b[39mappend(Panel(child\u001b[39m=\u001b[39mrow(fig), title\u001b[39m=\u001b[39m\u001b[39m\"\u001b[39m\u001b[39mBar Chart\u001b[39m\u001b[39m\"\u001b[39m))\n\u001b[1;32m   1584\u001b[0m     htgs[\u001b[39m\"\u001b[39m\u001b[39mBar Chart\u001b[39m\u001b[39m\"\u001b[39m] \u001b[39m=\u001b[39m cfg\u001b[39m.\u001b[39mbar\u001b[39m.\u001b[39mhow_to_guide(plot_height, plot_width)\n",
      "File \u001b[0;32m~/.python/current/lib/python3.10/site-packages/dataprep/eda/distribution/render.py:223\u001b[0m, in \u001b[0;36mbar_viz\u001b[0;34m(df, ttl_grps, nrows, col, plot_width, plot_height, show_yticks, bar_cfg)\u001b[0m\n\u001b[1;32m    219\u001b[0m \u001b[39m\u001b[39m\u001b[39m\"\"\"\u001b[39;00m\n\u001b[1;32m    220\u001b[0m \u001b[39mRender a bar chart\u001b[39;00m\n\u001b[1;32m    221\u001b[0m \u001b[39m\"\"\"\u001b[39;00m\n\u001b[1;32m    222\u001b[0m \u001b[39m# pylint: disable=too-many-arguments\u001b[39;00m\n\u001b[0;32m--> 223\u001b[0m df[\u001b[39m\"\u001b[39m\u001b[39mpct\u001b[39m\u001b[39m\"\u001b[39m] \u001b[39m=\u001b[39m df[col] \u001b[39m/\u001b[39m nrows \u001b[39m*\u001b[39m \u001b[39m100\u001b[39m\n\u001b[1;32m    224\u001b[0m df\u001b[39m.\u001b[39mindex \u001b[39m=\u001b[39m [\u001b[39mstr\u001b[39m(val) \u001b[39mfor\u001b[39;00m val \u001b[39min\u001b[39;00m df\u001b[39m.\u001b[39mindex]\n\u001b[1;32m    226\u001b[0m tooltips \u001b[39m=\u001b[39m [(col, \u001b[39m\"\u001b[39m\u001b[39m@index\u001b[39m\u001b[39m\"\u001b[39m), (\u001b[39m\"\u001b[39m\u001b[39mCount\u001b[39m\u001b[39m\"\u001b[39m, \u001b[39mf\u001b[39m\u001b[39m\"\u001b[39m\u001b[39m@\u001b[39m\u001b[39m{{\u001b[39;00m\u001b[39m{\u001b[39;00mcol\u001b[39m}\u001b[39;00m\u001b[39m}}\u001b[39;00m\u001b[39m\"\u001b[39m), (\u001b[39m\"\u001b[39m\u001b[39mPercent\u001b[39m\u001b[39m\"\u001b[39m, \u001b[39m\"\u001b[39m\u001b[39m@pct\u001b[39m\u001b[39m{0.2f}\u001b[39;00m\u001b[39m%\u001b[39m\u001b[39m\"\u001b[39m)]\n",
      "File \u001b[0;32m~/.local/lib/python3.10/site-packages/pandas/core/frame.py:3761\u001b[0m, in \u001b[0;36m__getitem__\u001b[0;34m(self, key)\u001b[0m\n",
      "File \u001b[0;32m~/.local/lib/python3.10/site-packages/pandas/core/indexes/base.py:3655\u001b[0m, in \u001b[0;36mget_loc\u001b[0;34m(self, key)\u001b[0m\n",
      "\u001b[0;31mKeyError\u001b[0m: 'genero'"
     ]
    }
   ],
   "source": [
    "\n",
    "'''cols = [\"colesterol\", \"glicose\", \"fumante\", \"bebida_alcool\", \"ativo\"]\n",
    "for col in cols:\n",
    "    temp = pd.get_dummies(df[col], dtype=int)\n",
    "    possible = []\n",
    "    for item in df[col]:\n",
    "        if not(item in possible):\n",
    "            possible.append(item)\n",
    "        else:\n",
    "            pass\n",
    "    for i in possible:\n",
    "        df[f\"{col}_{i}\"] = temp[i]\n",
    "    df.drop(columns=col, inplace=True)\n",
    "\n",
    "df'''\n",
    "\n",
    "from dataprep.eda import create_report\n",
    "create_report(df).show_browser()"
   ]
  },
  {
   "cell_type": "code",
   "execution_count": null,
   "id": "00da8032",
   "metadata": {},
   "outputs": [],
   "source": [
    "'''from sklearn.preprocessing import MinMaxScaler\n",
    "import numpy as np\n",
    "scaler = MinMaxScaler()\n",
    "df_scaled = scaler.fit_transform(X=df)\n",
    "df_scaled = pd.DataFrame(df_scaled)\n",
    "df_scaled.columns = df.columns\n",
    "df_scaled''' #Iria usar, mas nao funcionou\n",
    "e"
   ]
  },
  {
   "cell_type": "code",
   "execution_count": null,
   "id": "c028e7d1",
   "metadata": {},
   "outputs": [],
   "source": [
    "X = df.drop(columns=[\"cardio\"])\n",
    "y = df[\"cardio\"]\n"
   ]
  },
  {
   "cell_type": "code",
   "execution_count": null,
   "id": "9b7ffc17",
   "metadata": {},
   "outputs": [],
   "source": [
    "X"
   ]
  },
  {
   "cell_type": "code",
   "execution_count": null,
   "id": "da436a38",
   "metadata": {},
   "outputs": [],
   "source": [
    "xtr, xts, ytr, yts = train_test_split(X, y, test_size=0.3, random_state=1337)"
   ]
  },
  {
   "cell_type": "code",
   "execution_count": null,
   "id": "1daf95b5",
   "metadata": {},
   "outputs": [],
   "source": [
    "xtr"
   ]
  },
  {
   "cell_type": "code",
   "execution_count": null,
   "id": "da624a12",
   "metadata": {},
   "outputs": [],
   "source": [
    "from imblearn.over_sampling import RandomOverSampler\n",
    "ros = RandomOverSampler(random_state=1337)\n",
    "xtr_resampled, ytr_resampled = ros.fit_resample(xtr, ytr)\n"
   ]
  },
  {
   "cell_type": "code",
   "execution_count": null,
   "id": "b36afe2b",
   "metadata": {},
   "outputs": [],
   "source": [
    "from sklearn.naive_bayes import GaussianNB\n",
    "nb = GaussianNB()\n",
    "nb.fit(xtr, ytr)"
   ]
  },
  {
   "cell_type": "code",
   "execution_count": null,
   "id": "8597e74f",
   "metadata": {},
   "outputs": [],
   "source": [
    "nb.score(xts, yts)"
   ]
  },
  {
   "cell_type": "code",
   "execution_count": null,
   "id": "1a3d5bef",
   "metadata": {},
   "outputs": [],
   "source": [
    "y_pr = nb.predict(xts)"
   ]
  },
  {
   "cell_type": "code",
   "execution_count": null,
   "id": "9c404958",
   "metadata": {},
   "outputs": [],
   "source": [
    "#Acurácia, Sensibilidade positiva (VP/(VP+FN),  Precisão, Recall, F1-Score\n",
    "acuracia = accuracy_score(yts,y_pr)\n",
    "precisao = precision_score(yts,y_pr)\n",
    "recall = recall_score(yts,y_pr)\n",
    "specificity = specificity_score(yts,y_pr)\n",
    "f1Score = f1_score(yts,y_pr)\n",
    "lr_curva_roc = roc_auc_score(yts,y_pr)\n",
    "kappa = cohen_kappa_score(yts,y_pr)\n",
    "print(f'Acurácia:{round(acuracia,2)}')\n",
    "print(f'Precisão:{round(precisao,2)}')\n",
    "print(f'Recall ou Sensibilidade:{round(recall,2)}')\n",
    "print(f'Especificidade:{round(specificity,2)}')\n",
    "print(f'F1-Score:{round(f1Score,2)}')\n",
    "print(f'Kappa:{round(kappa,2)}')\n",
    "print(f'Curva ROC:{round(lr_curva_roc,2)}') "
   ]
  }
 ],
 "metadata": {
  "kernelspec": {
   "display_name": "Python 3 (ipykernel)",
   "language": "python",
   "name": "python3"
  },
  "language_info": {
   "codemirror_mode": {
    "name": "ipython",
    "version": 3
   },
   "file_extension": ".py",
   "mimetype": "text/x-python",
   "name": "python",
   "nbconvert_exporter": "python",
   "pygments_lexer": "ipython3",
   "version": "3.10.8"
  }
 },
 "nbformat": 4,
 "nbformat_minor": 5
}
